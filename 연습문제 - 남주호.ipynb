{
 "cells": [
  {
   "cell_type": "markdown",
   "id": "31e7a41c",
   "metadata": {},
   "source": [
    "연습문제"
   ]
  },
  {
   "cell_type": "code",
   "execution_count": 1,
   "id": "5542b048",
   "metadata": {},
   "outputs": [],
   "source": [
    "import pandas as pd\n",
    "import numpy as np"
   ]
  },
  {
   "cell_type": "code",
   "execution_count": 2,
   "id": "689364ce",
   "metadata": {},
   "outputs": [
    {
     "data": {
      "text/plain": [
       "0      29\n",
       "1       4\n",
       "2       5\n",
       "3    juho\n",
       "4       6\n",
       "5     172\n",
       "6      no\n",
       "dtype: object"
      ]
     },
     "execution_count": 2,
     "metadata": {},
     "output_type": "execute_result"
    }
   ],
   "source": [
    "s = pd.Series([29, 4, 5, 'juho', 6, 172, 'no'])\n",
    "s"
   ]
  },
  {
   "cell_type": "code",
   "execution_count": 3,
   "id": "58aa50f9",
   "metadata": {},
   "outputs": [
    {
     "data": {
      "text/plain": [
       "DatetimeIndex(['2022-11-05', '2022-11-06', '2022-11-07', '2022-11-08',\n",
       "               '2022-11-09', '2022-11-10', '2022-11-11'],\n",
       "              dtype='datetime64[ns]', freq='D')"
      ]
     },
     "execution_count": 3,
     "metadata": {},
     "output_type": "execute_result"
    }
   ],
   "source": [
    "date = pd.date_range(\"20221105\", periods=7)\n",
    "date"
   ]
  },
  {
   "cell_type": "code",
   "execution_count": 5,
   "id": "cf9a0e39",
   "metadata": {},
   "outputs": [
    {
     "data": {
      "text/html": [
       "<div>\n",
       "<style scoped>\n",
       "    .dataframe tbody tr th:only-of-type {\n",
       "        vertical-align: middle;\n",
       "    }\n",
       "\n",
       "    .dataframe tbody tr th {\n",
       "        vertical-align: top;\n",
       "    }\n",
       "\n",
       "    .dataframe thead th {\n",
       "        text-align: right;\n",
       "    }\n",
       "</style>\n",
       "<table border=\"1\" class=\"dataframe\">\n",
       "  <thead>\n",
       "    <tr style=\"text-align: right;\">\n",
       "      <th></th>\n",
       "      <th>A</th>\n",
       "      <th>B</th>\n",
       "      <th>C</th>\n",
       "      <th>D</th>\n",
       "    </tr>\n",
       "  </thead>\n",
       "  <tbody>\n",
       "    <tr>\n",
       "      <th>2022-11-05</th>\n",
       "      <td>0.013760</td>\n",
       "      <td>1.040217</td>\n",
       "      <td>0.330105</td>\n",
       "      <td>-0.136988</td>\n",
       "    </tr>\n",
       "    <tr>\n",
       "      <th>2022-11-06</th>\n",
       "      <td>0.208966</td>\n",
       "      <td>1.125446</td>\n",
       "      <td>-0.111324</td>\n",
       "      <td>-0.926837</td>\n",
       "    </tr>\n",
       "    <tr>\n",
       "      <th>2022-11-07</th>\n",
       "      <td>-0.553062</td>\n",
       "      <td>-0.131187</td>\n",
       "      <td>0.512989</td>\n",
       "      <td>-0.072672</td>\n",
       "    </tr>\n",
       "    <tr>\n",
       "      <th>2022-11-08</th>\n",
       "      <td>0.330588</td>\n",
       "      <td>0.101319</td>\n",
       "      <td>0.724106</td>\n",
       "      <td>1.401411</td>\n",
       "    </tr>\n",
       "    <tr>\n",
       "      <th>2022-11-09</th>\n",
       "      <td>0.470409</td>\n",
       "      <td>-0.903850</td>\n",
       "      <td>0.799513</td>\n",
       "      <td>0.166656</td>\n",
       "    </tr>\n",
       "    <tr>\n",
       "      <th>2022-11-10</th>\n",
       "      <td>-1.501391</td>\n",
       "      <td>-1.165816</td>\n",
       "      <td>0.466769</td>\n",
       "      <td>-1.253050</td>\n",
       "    </tr>\n",
       "    <tr>\n",
       "      <th>2022-11-11</th>\n",
       "      <td>-0.326254</td>\n",
       "      <td>-0.239371</td>\n",
       "      <td>0.447105</td>\n",
       "      <td>0.327864</td>\n",
       "    </tr>\n",
       "  </tbody>\n",
       "</table>\n",
       "</div>"
      ],
      "text/plain": [
       "                   A         B         C         D\n",
       "2022-11-05  0.013760  1.040217  0.330105 -0.136988\n",
       "2022-11-06  0.208966  1.125446 -0.111324 -0.926837\n",
       "2022-11-07 -0.553062 -0.131187  0.512989 -0.072672\n",
       "2022-11-08  0.330588  0.101319  0.724106  1.401411\n",
       "2022-11-09  0.470409 -0.903850  0.799513  0.166656\n",
       "2022-11-10 -1.501391 -1.165816  0.466769 -1.253050\n",
       "2022-11-11 -0.326254 -0.239371  0.447105  0.327864"
      ]
     },
     "execution_count": 5,
     "metadata": {},
     "output_type": "execute_result"
    }
   ],
   "source": [
    "df = pd.DataFrame(np.random.randn(7, 4), index=date, columns=list(\"ABCD\"))\n",
    "\n",
    "df"
   ]
  },
  {
   "cell_type": "markdown",
   "id": "90077085",
   "metadata": {},
   "source": [
    "1. 데이터 2022.11.05와 2022.11.07의 데이터를 뽑아라."
   ]
  },
  {
   "cell_type": "code",
   "execution_count": 12,
   "id": "01a6a126",
   "metadata": {},
   "outputs": [
    {
     "data": {
      "text/html": [
       "<div>\n",
       "<style scoped>\n",
       "    .dataframe tbody tr th:only-of-type {\n",
       "        vertical-align: middle;\n",
       "    }\n",
       "\n",
       "    .dataframe tbody tr th {\n",
       "        vertical-align: top;\n",
       "    }\n",
       "\n",
       "    .dataframe thead th {\n",
       "        text-align: right;\n",
       "    }\n",
       "</style>\n",
       "<table border=\"1\" class=\"dataframe\">\n",
       "  <thead>\n",
       "    <tr style=\"text-align: right;\">\n",
       "      <th></th>\n",
       "      <th>A</th>\n",
       "      <th>B</th>\n",
       "      <th>C</th>\n",
       "      <th>D</th>\n",
       "    </tr>\n",
       "  </thead>\n",
       "  <tbody>\n",
       "    <tr>\n",
       "      <th>2022-11-05</th>\n",
       "      <td>0.013760</td>\n",
       "      <td>1.040217</td>\n",
       "      <td>0.330105</td>\n",
       "      <td>-0.136988</td>\n",
       "    </tr>\n",
       "    <tr>\n",
       "      <th>2022-11-06</th>\n",
       "      <td>0.208966</td>\n",
       "      <td>1.125446</td>\n",
       "      <td>-0.111324</td>\n",
       "      <td>-0.926837</td>\n",
       "    </tr>\n",
       "    <tr>\n",
       "      <th>2022-11-07</th>\n",
       "      <td>-0.553062</td>\n",
       "      <td>-0.131187</td>\n",
       "      <td>0.512989</td>\n",
       "      <td>-0.072672</td>\n",
       "    </tr>\n",
       "  </tbody>\n",
       "</table>\n",
       "</div>"
      ],
      "text/plain": [
       "                   A         B         C         D\n",
       "2022-11-05  0.013760  1.040217  0.330105 -0.136988\n",
       "2022-11-06  0.208966  1.125446 -0.111324 -0.926837\n",
       "2022-11-07 -0.553062 -0.131187  0.512989 -0.072672"
      ]
     },
     "execution_count": 12,
     "metadata": {},
     "output_type": "execute_result"
    }
   ],
   "source": [
    "df[\"20221105\":\"20221107\"]"
   ]
  },
  {
   "cell_type": "markdown",
   "id": "0bbe8529",
   "metadata": {},
   "source": [
    "2. 데이터 B.C에 있는 데이터만 남겨라."
   ]
  },
  {
   "cell_type": "code",
   "execution_count": 13,
   "id": "c2c887ce",
   "metadata": {},
   "outputs": [
    {
     "data": {
      "text/html": [
       "<div>\n",
       "<style scoped>\n",
       "    .dataframe tbody tr th:only-of-type {\n",
       "        vertical-align: middle;\n",
       "    }\n",
       "\n",
       "    .dataframe tbody tr th {\n",
       "        vertical-align: top;\n",
       "    }\n",
       "\n",
       "    .dataframe thead th {\n",
       "        text-align: right;\n",
       "    }\n",
       "</style>\n",
       "<table border=\"1\" class=\"dataframe\">\n",
       "  <thead>\n",
       "    <tr style=\"text-align: right;\">\n",
       "      <th></th>\n",
       "      <th>B</th>\n",
       "      <th>C</th>\n",
       "    </tr>\n",
       "  </thead>\n",
       "  <tbody>\n",
       "    <tr>\n",
       "      <th>2022-11-05</th>\n",
       "      <td>1.040217</td>\n",
       "      <td>0.330105</td>\n",
       "    </tr>\n",
       "    <tr>\n",
       "      <th>2022-11-06</th>\n",
       "      <td>1.125446</td>\n",
       "      <td>-0.111324</td>\n",
       "    </tr>\n",
       "    <tr>\n",
       "      <th>2022-11-07</th>\n",
       "      <td>-0.131187</td>\n",
       "      <td>0.512989</td>\n",
       "    </tr>\n",
       "    <tr>\n",
       "      <th>2022-11-08</th>\n",
       "      <td>0.101319</td>\n",
       "      <td>0.724106</td>\n",
       "    </tr>\n",
       "    <tr>\n",
       "      <th>2022-11-09</th>\n",
       "      <td>-0.903850</td>\n",
       "      <td>0.799513</td>\n",
       "    </tr>\n",
       "    <tr>\n",
       "      <th>2022-11-10</th>\n",
       "      <td>-1.165816</td>\n",
       "      <td>0.466769</td>\n",
       "    </tr>\n",
       "    <tr>\n",
       "      <th>2022-11-11</th>\n",
       "      <td>-0.239371</td>\n",
       "      <td>0.447105</td>\n",
       "    </tr>\n",
       "  </tbody>\n",
       "</table>\n",
       "</div>"
      ],
      "text/plain": [
       "                   B         C\n",
       "2022-11-05  1.040217  0.330105\n",
       "2022-11-06  1.125446 -0.111324\n",
       "2022-11-07 -0.131187  0.512989\n",
       "2022-11-08  0.101319  0.724106\n",
       "2022-11-09 -0.903850  0.799513\n",
       "2022-11-10 -1.165816  0.466769\n",
       "2022-11-11 -0.239371  0.447105"
      ]
     },
     "execution_count": 13,
     "metadata": {},
     "output_type": "execute_result"
    }
   ],
   "source": [
    "df.loc[:, [\"B\", \"C\"]]"
   ]
  },
  {
   "cell_type": "markdown",
   "id": "61c9c77b",
   "metadata": {},
   "source": [
    "3. 열은 놔두고 행만 슬라이싱하는데 데이터 2022.11.07-09까지만 남겨라."
   ]
  },
  {
   "cell_type": "code",
   "execution_count": 20,
   "id": "fc77bea2",
   "metadata": {},
   "outputs": [
    {
     "data": {
      "text/html": [
       "<div>\n",
       "<style scoped>\n",
       "    .dataframe tbody tr th:only-of-type {\n",
       "        vertical-align: middle;\n",
       "    }\n",
       "\n",
       "    .dataframe tbody tr th {\n",
       "        vertical-align: top;\n",
       "    }\n",
       "\n",
       "    .dataframe thead th {\n",
       "        text-align: right;\n",
       "    }\n",
       "</style>\n",
       "<table border=\"1\" class=\"dataframe\">\n",
       "  <thead>\n",
       "    <tr style=\"text-align: right;\">\n",
       "      <th></th>\n",
       "      <th>A</th>\n",
       "      <th>B</th>\n",
       "      <th>C</th>\n",
       "      <th>D</th>\n",
       "    </tr>\n",
       "  </thead>\n",
       "  <tbody>\n",
       "    <tr>\n",
       "      <th>2022-11-07</th>\n",
       "      <td>-0.553062</td>\n",
       "      <td>-0.131187</td>\n",
       "      <td>0.512989</td>\n",
       "      <td>-0.072672</td>\n",
       "    </tr>\n",
       "    <tr>\n",
       "      <th>2022-11-08</th>\n",
       "      <td>0.330588</td>\n",
       "      <td>0.101319</td>\n",
       "      <td>0.724106</td>\n",
       "      <td>1.401411</td>\n",
       "    </tr>\n",
       "    <tr>\n",
       "      <th>2022-11-09</th>\n",
       "      <td>0.470409</td>\n",
       "      <td>-0.903850</td>\n",
       "      <td>0.799513</td>\n",
       "      <td>0.166656</td>\n",
       "    </tr>\n",
       "  </tbody>\n",
       "</table>\n",
       "</div>"
      ],
      "text/plain": [
       "                   A         B         C         D\n",
       "2022-11-07 -0.553062 -0.131187  0.512989 -0.072672\n",
       "2022-11-08  0.330588  0.101319  0.724106  1.401411\n",
       "2022-11-09  0.470409 -0.903850  0.799513  0.166656"
      ]
     },
     "execution_count": 20,
     "metadata": {},
     "output_type": "execute_result"
    }
   ],
   "source": [
    "df.iloc[2:5, :]"
   ]
  },
  {
   "cell_type": "code",
   "execution_count": null,
   "id": "ac72780d",
   "metadata": {},
   "outputs": [],
   "source": []
  }
 ],
 "metadata": {
  "kernelspec": {
   "display_name": "Python 3 (ipykernel)",
   "language": "python",
   "name": "python3"
  },
  "language_info": {
   "codemirror_mode": {
    "name": "ipython",
    "version": 3
   },
   "file_extension": ".py",
   "mimetype": "text/x-python",
   "name": "python",
   "nbconvert_exporter": "python",
   "pygments_lexer": "ipython3",
   "version": "3.9.12"
  }
 },
 "nbformat": 4,
 "nbformat_minor": 5
}
